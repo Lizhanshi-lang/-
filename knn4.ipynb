{
 "cells": [
  {
   "cell_type": "code",
   "execution_count": 24,
   "metadata": {
    "collapsed": true
   },
   "outputs": [
    {
     "data": {
      "text/plain": "'\\n这一部分用于完成特征向量的测试\\n\\nReliefF算法\\n\\n'"
     },
     "execution_count": 24,
     "metadata": {},
     "output_type": "execute_result"
    }
   ],
   "source": [
    "\"\"\"\n",
    "这一部分用于完成特征向量的测试\n",
    "\n",
    "ReliefF算法\n",
    "\n",
    "\"\"\""
   ]
  },
  {
   "cell_type": "code",
   "execution_count": 25,
   "outputs": [],
   "source": [
    "import functools\n",
    "import json\n",
    "import random\n",
    "\n",
    "import numpy as np"
   ],
   "metadata": {
    "collapsed": false,
    "pycharm": {
     "name": "#%%\n"
    }
   }
  },
  {
   "cell_type": "code",
   "execution_count": 26,
   "outputs": [],
   "source": [
    "# 读取标签、训练集以及测试集\n",
    "with open(\"categories.json\", 'r') as file:\n",
    "    categories = json.load(file)\n",
    "with open(\"train_data_features_2.json\", 'r') as file:\n",
    "    train_data = json.load(file)\n",
    "with open(\"test_data_features_2.json\", 'r') as file:\n",
    "    test_data = json.load(file)"
   ],
   "metadata": {
    "collapsed": false,
    "pycharm": {
     "name": "#%%\n"
    }
   }
  },
  {
   "cell_type": "code",
   "execution_count": 27,
   "outputs": [
    {
     "name": "stdout",
     "output_type": "stream",
     "text": [
      "(600, 25)\n",
      "(600,)\n"
     ]
    }
   ],
   "source": [
    "# 将训练集转化为Sklearn 能识别的数据集，并且声称相对应的标签\n",
    "train_data_tmp = None\n",
    "train_label = None\n",
    "for i, (key, value) in enumerate(train_data.items()):\n",
    "    value = np.array(value)\n",
    "    if train_data_tmp is None:\n",
    "        train_data_tmp = value.copy()\n",
    "    else:\n",
    "        train_data_tmp = np.vstack((train_data_tmp, value))\n",
    "\n",
    "    if train_label is None:\n",
    "        train_label = np.full((len(value)), i)\n",
    "    else:\n",
    "        train_label = np.hstack((train_label, np.full((len(value)), i)))\n",
    "\n",
    "train_data = train_data_tmp\n",
    "print(train_data.shape)\n",
    "print(train_label.shape)\n"
   ],
   "metadata": {
    "collapsed": false,
    "pycharm": {
     "name": "#%%\n"
    }
   }
  },
  {
   "cell_type": "code",
   "execution_count": 28,
   "outputs": [],
   "source": [
    "# ReliefF Algorithm\n",
    "\n",
    "def get_attr():\n",
    "    pass\n"
   ],
   "metadata": {
    "collapsed": false,
    "pycharm": {
     "name": "#%%\n"
    }
   }
  },
  {
   "cell_type": "code",
   "execution_count": 29,
   "outputs": [
    {
     "name": "stdout",
     "output_type": "stream",
     "text": [
      "[1.65170209e-01 2.19678749e-02 8.52994642e-02 1.62706944e-01\n",
      " 2.85959353e-03 9.35877095e-02 1.18777081e-01 2.48518630e-02\n",
      " 9.96007803e-02 7.83660569e-03 6.26884372e-03 2.78457204e-03\n",
      " 1.66772794e-02 5.99460520e-03 5.11881016e-03 2.51656744e-03\n",
      " 1.49151285e-02 5.64657613e-03 6.04168432e-03 1.55995987e-03\n",
      " 1.48008411e-02 5.48998585e-03 5.13436547e-03 3.74707584e-05\n",
      " 1.00540257e-02]\n"
     ]
    }
   ],
   "source": [
    "m=100\n",
    "q=5\n",
    "\n",
    "w = np.zeros(25)\n",
    "\n",
    "def cmps(p1, p2):\n",
    "    if p1[25] < p2[25]:\n",
    "        return -1\n",
    "    else:\n",
    "        return 1\n",
    "\n",
    "\n",
    "def diff(A, R1, R2):\n",
    "    return abs(R1[A] - R2[A])\n",
    "\n",
    "\n",
    "for mi in range(m):\n",
    "    choose_class = random.randint(0, 600)\n",
    "    choose_type = choose_class // 60\n",
    "    choose_feature = train_data[choose_type]\n",
    "\n",
    "    # 获取同类K个最近邻以及不同类K个最近邻\n",
    "    k_features=[[],[],[],[],[],[],[],[],[],[]]\n",
    "    for i in range(600):\n",
    "        k_features[i // 60].append(np.hstack((train_data[i], np.sqrt(((choose_feature - train_data[i])**2).sum()))))\n",
    "\n",
    "    # print(len(k_features))\n",
    "    # print(len(k_features[0]))\n",
    "\n",
    "    k_same_features = sorted(k_same_features, key=functools.cmp_to_key(cmps))\n",
    "    for i in range(10):\n",
    "        k_features[i] = sorted(k_features[i], key=functools.cmp_to_key(cmps))\n",
    "        k_features[i] = k_features[i][0:q]\n",
    "\n",
    "    # print(len(k_features))\n",
    "    # print(len(k_features[0]))\n",
    "\n",
    "    for a in range(25):\n",
    "        item1 = 0\n",
    "        for i in range(q):\n",
    "            item1 += diff(a, train_data[choose_class], k_features[choose_type][i])\n",
    "        item1 /= m*q\n",
    "\n",
    "        item2 = 0\n",
    "        for j in range(10):\n",
    "            if j != choose_type:\n",
    "                item_tmp = 0\n",
    "                for i in range(q):\n",
    "                    item_tmp += diff(a, train_data[choose_class], k_features[j][i])\n",
    "                item_tmp /= m*q\n",
    "                item2 += item_tmp*(1/9)\n",
    "\n",
    "        w[a] = w[a] - item1 + item2\n",
    "\n",
    "print(w)\n"
   ],
   "metadata": {
    "collapsed": false,
    "pycharm": {
     "name": "#%%\n"
    }
   }
  },
  {
   "cell_type": "code",
   "execution_count": 30,
   "outputs": [],
   "source": [
    "with open(\"weight.json\", 'w') as file:\n",
    "    json.dump(w.tolist(), file)\n"
   ],
   "metadata": {
    "collapsed": false,
    "pycharm": {
     "name": "#%%\n"
    }
   }
  },
  {
   "cell_type": "code",
   "execution_count": 30,
   "outputs": [],
   "source": [],
   "metadata": {
    "collapsed": false,
    "pycharm": {
     "name": "#%%\n"
    }
   }
  },
  {
   "cell_type": "code",
   "execution_count": null,
   "outputs": [],
   "source": [
    "\n"
   ],
   "metadata": {
    "collapsed": false,
    "pycharm": {
     "name": "#%%\n"
    }
   }
  }
 ],
 "metadata": {
  "kernelspec": {
   "name": "python38264bitd17b77760e9b46d29ce06909f6c14ce7",
   "language": "python",
   "display_name": "Python 3.8.2 64-bit"
  },
  "language_info": {
   "codemirror_mode": {
    "name": "ipython",
    "version": 2
   },
   "file_extension": ".py",
   "mimetype": "text/x-python",
   "name": "python",
   "nbconvert_exporter": "python",
   "pygments_lexer": "ipython2",
   "version": "2.7.6"
  }
 },
 "nbformat": 4,
 "nbformat_minor": 0
}