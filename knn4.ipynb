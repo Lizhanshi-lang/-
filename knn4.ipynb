{
 "cells": [
  {
   "cell_type": "code",
   "execution_count": 82,
   "metadata": {
    "collapsed": true
   },
   "outputs": [
    {
     "data": {
      "text/plain": "'\\n这一部分用于完成特征向量的测试\\n\\nReliefF算法\\n\\n'"
     },
     "execution_count": 82,
     "metadata": {},
     "output_type": "execute_result"
    }
   ],
   "source": [
    "\"\"\"\n",
    "这一部分用于完成特征向量的测试\n",
    "\n",
    "ReliefF算法\n",
    "\n",
    "\"\"\""
   ]
  },
  {
   "cell_type": "code",
   "execution_count": 83,
   "outputs": [],
   "source": [
    "import functools\n",
    "import json\n",
    "import random\n",
    "\n",
    "import numpy as np"
   ],
   "metadata": {
    "collapsed": false,
    "pycharm": {
     "name": "#%%\n"
    }
   }
  },
  {
   "cell_type": "code",
   "execution_count": 84,
   "outputs": [],
   "source": [
    "# 读取标签、训练集以及测试集\n",
    "with open(\"categories.json\", 'r') as file:\n",
    "    categories = json.load(file)\n",
    "with open(\"train_data_features_2.json\", 'r') as file:\n",
    "    train_data = json.load(file)\n",
    "with open(\"test_data_features_2.json\", 'r') as file:\n",
    "    test_data = json.load(file)"
   ],
   "metadata": {
    "collapsed": false,
    "pycharm": {
     "name": "#%%\n"
    }
   }
  },
  {
   "cell_type": "code",
   "execution_count": 85,
   "outputs": [
    {
     "name": "stdout",
     "output_type": "stream",
     "text": [
      "(600, 25)\n",
      "(600,)\n"
     ]
    }
   ],
   "source": [
    "# 将训练集转化为Sklearn 能识别的数据集，并且声称相对应的标签\n",
    "train_data_tmp = None\n",
    "train_label = None\n",
    "for i, (key, value) in enumerate(train_data.items()):\n",
    "    value = np.array(value)\n",
    "    if train_data_tmp is None:\n",
    "        train_data_tmp = value.copy()\n",
    "    else:\n",
    "        train_data_tmp = np.vstack((train_data_tmp, value))\n",
    "\n",
    "    if train_label is None:\n",
    "        train_label = np.full((len(value)), i)\n",
    "    else:\n",
    "        train_label = np.hstack((train_label, np.full((len(value)), i)))\n",
    "\n",
    "train_data = train_data_tmp\n",
    "print(train_data.shape)\n",
    "print(train_label.shape)\n"
   ],
   "metadata": {
    "collapsed": false,
    "pycharm": {
     "name": "#%%\n"
    }
   }
  },
  {
   "cell_type": "code",
   "execution_count": 86,
   "outputs": [],
   "source": [
    "# ReliefF Algorithm\n"
   ],
   "metadata": {
    "collapsed": false,
    "pycharm": {
     "name": "#%%\n"
    }
   }
  },
  {
   "cell_type": "code",
   "execution_count": 87,
   "outputs": [
    {
     "name": "stdout",
     "output_type": "stream",
     "text": [
      "[ 0.15856915  0.04280697  0.07709978  0.14707888  0.02179735  0.08103083\n",
      "  0.10399601  0.02295767  0.08733124  0.00752564  0.00477822  0.00101449\n",
      "  0.00778874  0.00571851  0.00373295  0.00020325  0.00385432  0.00606277\n",
      "  0.00448655 -0.00071357  0.00340314  0.00581649  0.00374438 -0.00182741\n",
      "  0.00195079]\n"
     ]
    }
   ],
   "source": [
    "m=100\n",
    "q=5\n",
    "\n",
    "w = np.zeros(25)\n",
    "\n",
    "def cmps(p1, p2):\n",
    "    if p1[25] < p2[25]:\n",
    "        return -1\n",
    "    else:\n",
    "        return 1\n",
    "\n",
    "\n",
    "def diff(A, R1, R2):\n",
    "   \\ return abs(R1[A] - R2[A])\n",
    "    if abs(R1[A]-R2[A])<0.001:\n",
    "        return 0\n",
    "    else:\n",
    "        return 1\n",
    "\n",
    "\n",
    "for mi in range(m):\n",
    "    choose_class = random.randint(0, 600)\n",
    "    choose_type = choose_class // 60\n",
    "    choose_feature = train_data[choose_type]\n",
    "\n",
    "    # 获取同类K个最近邻以及不同类K个最近邻\n",
    "    k_features=[[],[],[],[],[],[],[],[],[],[]]\n",
    "    for i in range(600):\n",
    "        k_features[i // 60].append(np.hstack((train_data[i], np.sqrt(((choose_feature - train_data[i])**2).sum()))))\n",
    "\n",
    "    # print(len(k_features))\n",
    "    # print(len(k_features[0]))\n",
    "\n",
    "    k_same_features = sorted(k_same_features, key=functools.cmp_to_key(cmps))\n",
    "    for i in range(10):\n",
    "        k_features[i] = sorted(k_features[i], key=functools.cmp_to_key(cmps))\n",
    "        k_features[i] = k_features[i][0:q]\n",
    "\n",
    "    # print(len(k_features))\n",
    "    # print(len(k_features[0]))\n",
    "\n",
    "    for a in range(25):\n",
    "        item1 = 0\n",
    "        for i in range(q):\n",
    "            item1 += diff(a, train_data[choose_class], k_features[choose_type][i])\n",
    "        item1 /= m*q\n",
    "\n",
    "        item2 = 0\n",
    "        for j in range(10):\n",
    "            if j != choose_type:\n",
    "                item_tmp = 0\n",
    "                for i in range(q):\n",
    "                    item_tmp += diff(a, train_data[choose_class], k_features[j][i])\n",
    "                item_tmp /= m*q\n",
    "                item2 += item_tmp*(1/9)\n",
    "\n",
    "        w[a] = w[a] - item1 + item2\n",
    "\n",
    "print(w)"
   ],
   "metadata": {
    "collapsed": false,
    "pycharm": {
     "name": "#%%\n"
    }
   }
  },
  {
   "cell_type": "code",
   "execution_count": 80,
   "outputs": [
    {
     "name": "stdout",
     "output_type": "stream",
     "text": [
      "[[ 1.36532191e-01  1.31014090e-01  4.80844900e-02  9.44965761e-02\n",
      "   2.25696709e-02  6.91875291e-02  6.12709016e-02  7.29392980e-02\n",
      "   8.17564026e-02  5.24689272e-02  1.63884214e-03  6.72317117e-02\n",
      "   1.54720064e-01  2.15749210e-02  1.31685748e-03  1.05303966e-01\n",
      "   2.15194698e-01  5.11131794e-02  1.56046790e-03  7.10719912e-02\n",
      "   2.06518553e-01  4.38111458e-02  1.32578173e-03  7.27663332e-02\n",
      "   1.69969121e-01]\n",
      " [ 8.81111402e-02  7.58223082e-02  4.67343635e-02  6.45859958e-02\n",
      "   2.07323865e-02 -1.08368528e-02  2.04658373e-02  4.05231090e-02\n",
      "   3.71423861e-02  1.17654672e-02  3.33675156e-03  2.11375778e-03\n",
      "   9.64030139e-03  1.13508967e-02  2.82825388e-03  4.20822264e-03\n",
      "   1.25038512e-02  1.01247739e-02  3.27763649e-03  8.34680980e-03\n",
      "   1.60652022e-02  1.50955715e-02  2.85598179e-03  7.95319996e-03\n",
      "   1.71795772e-02]\n",
      " [ 7.05976341e-02  1.59099257e-02  1.24387137e-02  6.80965023e-02\n",
      "   1.24706162e-02  4.33867358e-02  2.60633803e-03 -2.78056647e-03\n",
      "   3.65416547e-02 -1.24328549e-03  5.77701214e-03  4.87890863e-03\n",
      "   2.09846522e-02 -1.14010370e-02  4.95815075e-03  2.92916436e-03\n",
      "   2.99769746e-02 -1.71539343e-02  5.66315454e-03  1.77989917e-03\n",
      "   2.45642300e-02 -8.61885234e-03  4.97122228e-03  3.78210577e-03\n",
      "   2.69125126e-02]\n",
      " [ 9.77102767e-02 -1.85479392e-02  8.85353440e-04  2.97094598e-02\n",
      "   4.15549857e-02  5.92035385e-02  1.10913848e-02  3.46582980e-02\n",
      "   7.55401988e-02  1.79407135e-03  3.49428382e-03 -6.43287248e-04\n",
      "  -1.21897012e-02 -1.14525074e-02  2.94591793e-03  7.27916873e-04\n",
      "  -4.41190087e-03 -1.07929498e-02  3.43166980e-03  9.95813530e-04\n",
      "   4.48488696e-03 -5.89670585e-03  2.97462773e-03  1.42071486e-03\n",
      "  -6.04608216e-03]\n",
      " [-5.50386143e-01 -2.18335704e-01 -2.87977320e-01 -5.33432446e-01\n",
      "  -3.86197268e-02 -3.81477128e-01 -3.63608383e-01  2.73150250e-02\n",
      "  -2.96144987e-01  5.77468726e-03 -5.11659632e-02 -1.06420435e-02\n",
      "  -1.22267141e-01  4.74283254e-03 -4.39681422e-02 -6.77880576e-03\n",
      "  -1.26095413e-01  1.07412238e-02 -5.01234544e-02 -1.18137069e-02\n",
      "  -1.54743056e-01  1.05532575e-02 -4.40870952e-02 -5.98971726e-03\n",
      "  -1.16986928e-01]\n",
      " [ 6.61692094e-02  2.98854900e-02  5.50991884e-02 -6.01910943e-02\n",
      "   1.57891138e-02 -2.74403576e-02 -1.71369966e-02 -8.60489020e-04\n",
      "  -3.09628241e-03  1.87610463e-02  5.70168620e-03  1.26372197e-02\n",
      "   1.60247650e-02  2.45282416e-04  4.89686503e-03  7.74377729e-03\n",
      "   3.56826721e-02  2.37233119e-02  5.58491474e-03  2.39703518e-02\n",
      "   3.88850875e-02  6.92173368e-03  4.91014840e-03  1.57998455e-02\n",
      "   3.89918211e-02]\n",
      " [-1.43404440e-01  2.18251816e-02 -1.60167226e-02 -2.60961673e-01\n",
      "  -6.23136621e-02 -6.11382544e-02 -4.04909461e-02 -1.41717603e-01\n",
      "  -6.48139480e-03 -3.45272695e-03  2.28764913e-03  2.71687708e-04\n",
      "  -1.16946767e-02  2.25813540e-04  2.07703344e-03  6.23915605e-04\n",
      "  -1.20927858e-02 -1.26119216e-03  2.27103182e-03  5.80736402e-04\n",
      "  -2.22694043e-02  1.71118012e-03  2.09296852e-03  1.54023935e-03\n",
      "  -9.25193164e-03]\n",
      " [ 8.67788894e-02  4.91909114e-03  5.37423963e-02  3.90227824e-02\n",
      "   2.43031022e-02  3.60467321e-02  8.54315547e-02  3.12696369e-02\n",
      "   4.15937634e-02  1.53851342e-03  7.50072309e-03  1.81927389e-02\n",
      "   6.31259086e-02 -3.08593632e-02  6.39091096e-03  8.49099424e-03\n",
      "   3.98644097e-02 -7.84391922e-02  7.48687956e-03  2.35228762e-02\n",
      "   9.31738561e-02 -5.55622544e-02  6.40496803e-03  2.19093748e-02\n",
      "   9.39917128e-02]\n",
      " [ 8.41704262e-02  1.44494953e-01 -7.91192311e-02  8.07887896e-02\n",
      "   8.69848588e-02  3.90304541e-02 -5.90533759e-02  5.58280279e-02\n",
      "  -8.92925063e-02 -1.44524180e-02  3.50272134e-03 -1.16574645e-02\n",
      "  -2.45366459e-02 -1.09348359e-02  2.95547919e-03 -1.03795777e-02\n",
      "  -2.30241585e-02 -1.37431157e-02  3.43121037e-03 -8.51719879e-03\n",
      "  -5.95690912e-03 -1.38899179e-02  2.98491176e-03 -1.09266030e-02\n",
      "  -1.60791868e-02]\n",
      " [-6.44497904e-03  4.38919257e-02 -3.77364021e-02  8.97991210e-02\n",
      "  -1.50645340e-02  2.80628437e-02  7.14628358e-03 -2.18038399e-02\n",
      "   6.32816626e-02  5.98275106e-03  5.33864813e-03  4.04996363e-03\n",
      "   1.71405818e-02  6.76967017e-03  4.58307041e-03  4.06702369e-03\n",
      "   2.07340145e-02  7.78475783e-03  5.22768653e-03  5.21853857e-03\n",
      "   2.10272441e-02  7.82391690e-03  4.58702378e-03  4.69866883e-03\n",
      "   1.78818016e-02]]\n"
     ]
    }
   ],
   "source": [
    "# 在此方法下，计算10*25个特征向量\n",
    "m=20 # 计算次数\n",
    "q=5 # KNN计算时取的K值\n",
    "\n",
    "w = np.zeros((10, 25)) # 特征向量\n",
    "\n",
    "\n",
    "def cmps(p1, p2):\n",
    "    \"\"\"\n",
    "    比较器\n",
    "    \"\"\"\n",
    "    if p1[25] < p2[25]:\n",
    "        return -1\n",
    "    else:\n",
    "        return 1\n",
    "\n",
    "def diff(A, R1, R2):\n",
    "    \"\"\"\n",
    "    计算样本R1、R2之间某一特征的差异\n",
    "    \"\"\"\n",
    "    return abs(R1[A] - R2[A])\n",
    "\n",
    "# 主循环\n",
    "# 10个类别\n",
    "for choose_type in range(10):\n",
    "    # 循环次数\n",
    "    for mi in range(m):\n",
    "        # 随机从当前类别中选取一个，并获取其特征向量\n",
    "        choose_class = random.randint(60*choose_type, 60*choose_type+60)\n",
    "        choose_feature = train_data[choose_type]\n",
    "\n",
    "        # 计算所有的训练集特征向量与选中的特征向量的距离\n",
    "        k_features=[[],[],[],[],[],[],[],[],[],[]]\n",
    "        for i in range(600):\n",
    "            k_features[i // 60].append(np.hstack((train_data[i], np.sqrt(((choose_feature - train_data[i])**2).sum()))))\n",
    "\n",
    "        # 排序，并且获取同类K个最近邻以及不同类K个最近邻\n",
    "        for i in range(10):\n",
    "            k_features[i] = sorted(k_features[i], key=functools.cmp_to_key(cmps))\n",
    "            k_features[i] = k_features[i][0:q]\n",
    "\n",
    "        # 根据公式计算每个特征向量的权值\n",
    "        for a in range(25):\n",
    "\n",
    "            # 公式的第二项\n",
    "            item1 = 0\n",
    "            for i in range(q):\n",
    "                item1 += diff(a, choose_feature, k_features[choose_type][i])\n",
    "            item1 /= m*q\n",
    "\n",
    "            # 公式的第三项\n",
    "            item2 = 0\n",
    "            for j in range(10):\n",
    "                if j != choose_type:\n",
    "                    item_tmp = 0\n",
    "                    for i in range(q):\n",
    "                        item_tmp += diff(a, choose_feature, k_features[j][i])\n",
    "                    item_tmp /= m*q\n",
    "                    item2 += item_tmp*(1/9)\n",
    "            # 根据公式更新权值\n",
    "            w[choose_type][a] = w[choose_type][a] - item1 + item2\n",
    "\n",
    "print(w)\n"
   ],
   "metadata": {
    "collapsed": false,
    "pycharm": {
     "name": "#%%\n"
    }
   }
  },
  {
   "cell_type": "code",
   "execution_count": 88,
   "outputs": [],
   "source": [
    "with open(\"weight.json\", 'w') as file:\n",
    "    json.dump(w.tolist(), file)\n"
   ],
   "metadata": {
    "collapsed": false,
    "pycharm": {
     "name": "#%%\n"
    }
   }
  },
  {
   "cell_type": "code",
   "execution_count": 30,
   "outputs": [],
   "source": [],
   "metadata": {
    "collapsed": false,
    "pycharm": {
     "name": "#%%\n"
    }
   }
  }
 ],
 "metadata": {
  "kernelspec": {
   "name": "python38264bitd17b77760e9b46d29ce06909f6c14ce7",
   "language": "python",
   "display_name": "Python 3.8.2 64-bit"
  },
  "language_info": {
   "codemirror_mode": {
    "name": "ipython",
    "version": 2
   },
   "file_extension": ".py",
   "mimetype": "text/x-python",
   "name": "python",
   "nbconvert_exporter": "python",
   "pygments_lexer": "ipython2",
   "version": "2.7.6"
  }
 },
 "nbformat": 4,
 "nbformat_minor": 0
}
