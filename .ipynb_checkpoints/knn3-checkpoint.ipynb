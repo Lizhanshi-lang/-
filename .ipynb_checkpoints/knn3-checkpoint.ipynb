{
 "cells": [
  {
   "cell_type": "code",
   "execution_count": 1,
   "metadata": {
    "pycharm": {
     "is_executing": true,
     "name": "#%%\n"
    }
   },
   "outputs": [
    {
     "data": {
      "text/plain": [
       "'\\n【模式识别】大作业\\n===============\\n\\n本次大作业的编程分为两部分\\n- 特征提取\\n- KNN识别\\n\\n当前是【KNN识别】\\n\\n姓名：葛启丰\\n班级：信安171\\n学号：41724180\\n时间：202-04-09\\n'"
      ]
     },
     "execution_count": 1,
     "metadata": {},
     "output_type": "execute_result"
    }
   ],
   "source": [
    "\"\"\"\n",
    "【模式识别】大作业\n",
    "===============\n",
    "\n",
    "本次大作业的编程分为两部分\n",
    "- 特征提取\n",
    "- KNN识别\n",
    "\n",
    "当前是【KNN识别】\n",
    "\n",
    "姓名：葛启丰\n",
    "班级：信安171\n",
    "学号：41724180\n",
    "时间：202-04-09\n",
    "\"\"\""
   ]
  },
  {
   "cell_type": "code",
   "execution_count": 2,
   "metadata": {
    "pycharm": {
     "name": "#%%\n"
    }
   },
   "outputs": [],
   "source": [
    "import numpy as np\n",
    "import json\n",
    "from sklearn import neighbors"
   ]
  },
  {
   "cell_type": "code",
   "execution_count": 3,
   "metadata": {
    "pycharm": {
     "name": "#%%\n"
    }
   },
   "outputs": [],
   "source": [
    "# 读取标签、训练集以及测试集\n",
    "with open(\"categories.json\", 'r') as file:\n",
    "    categories = json.load(file)\n",
    "with open(\"train_data_features_2.json\", 'r') as file:\n",
    "    train_data = json.load(file)\n",
    "with open(\"test_data_features_2.json\", 'r') as file:\n",
    "    test_data = json.load(file)\n"
   ]
  },
  {
   "cell_type": "code",
   "execution_count": 4,
   "metadata": {
    "pycharm": {
     "name": "#%%\n"
    }
   },
   "outputs": [],
   "source": [
    "# 测试\n",
    "# 测试在不使用ReliefF算法的情况下，准确率会达到多少"
   ]
  },
  {
   "cell_type": "code",
   "execution_count": 5,
   "metadata": {
    "pycharm": {
     "name": "#%%\n"
    }
   },
   "outputs": [
    {
     "name": "stdout",
     "output_type": "stream",
     "text": [
      "(600, 25)\n",
      "(600,)\n"
     ]
    }
   ],
   "source": [
    "# 将训练集转化为Sklearn 能识别的数据集，并且声称相对应的标签\n",
    "train_data_tmp = None\n",
    "train_label = None\n",
    "for i, (key, value) in enumerate(train_data.items()):\n",
    "    value = np.array(value)\n",
    "    if train_data_tmp is None:\n",
    "        train_data_tmp = value.copy()\n",
    "    else:\n",
    "        train_data_tmp = np.vstack((train_data_tmp, value))\n",
    "\n",
    "    if train_label is None:\n",
    "        train_label = np.full((len(value)), i)\n",
    "    else:\n",
    "        train_label = np.hstack((train_label, np.full((len(value)), i)))\n",
    "\n",
    "train_data = train_data_tmp\n",
    "print(train_data.shape)\n",
    "print(train_label.shape)\n"
   ]
  },
  {
   "cell_type": "code",
   "execution_count": 6,
   "metadata": {
    "pycharm": {
     "name": "#%%\n"
    }
   },
   "outputs": [
    {
     "data": {
      "text/plain": [
       "KNeighborsClassifier(algorithm='auto', leaf_size=30, metric='minkowski',\n",
       "                     metric_params=None, n_jobs=None, n_neighbors=5, p=2,\n",
       "                     weights='uniform')"
      ]
     },
     "execution_count": 6,
     "metadata": {},
     "output_type": "execute_result"
    }
   ],
   "source": [
    "knn=neighbors.KNeighborsClassifier()\n",
    "knn.fit(train_data, train_label)"
   ]
  },
  {
   "cell_type": "code",
   "execution_count": 7,
   "metadata": {
    "pycharm": {
     "name": "#%%\n"
    }
   },
   "outputs": [
    {
     "name": "stdout",
     "output_type": "stream",
     "text": [
      "[3 5 7 2 7 4 7 0 2 7 5 5 2 4 2 5 0 5 0 4 7 7 0 0 3 0 5 7 2 2 0 3 0 3 2 3 0\n",
      " 0 5 0]\n",
      "(40,)\n",
      "[2 4 1 1 8 1 1 2 2 2 2 2 1 6 7 2 1 1 0 1 1 2 2 1 1 1 1 1 7 0 5 1 1 5 1 1 2\n",
      " 1 1 1]\n",
      "(40,)\n",
      "[0 2 3 2 2 3 5 8 0 7 1 5 9 4 4 1 4 0 2 2 9 2 2 3 2 5 5 2 5 1 2 5 2 5 5 4 7\n",
      " 4 5 2]\n",
      "(40,)\n",
      "[3 2 3 2 3 5 7 3 3 0 7 3 3 9 3 2 3 7 2 2 2 3 3 2 2 3 9 2 3 2 3 3 3 7 7 2 7\n",
      " 7 3 7]\n",
      "(40,)\n",
      "[4 4 4 4 4 4 4 4 4 4 4 4 4 4 4 4 4 4 4 4 4 4 4 4 4 4 4 4 4 4 4 4 4 4 4 4 4\n",
      " 4 4 4]\n",
      "(40,)\n",
      "[5 5 8 5 5 4 7 7 5 5 5 5 5 5 5 5 8 5 5 5 5 5 5 5 5 4 4 5 5 4 5 2 4 5 5 4 4\n",
      " 5 5 4]\n",
      "(40,)\n",
      "[4 4 4 4 4 4 6 2 6 6 6 4 6 6 6 6 6 6 4 4 7 8 8 0 4 7 0 6 4 4 6 8 2 0 1 0 6\n",
      " 6 6 6]\n",
      "(40,)\n",
      "[7 4 7 4 4 6 7 7 2 4 4 2 4 4 7 7 7 7 7 6 7 7 6 4 5 7 7 1 7 7 7 5 5 2 7 4 7\n",
      " 4 6 0]\n",
      "(40,)\n",
      "[8 8 8 8 8 2 8 8 8 8 8 4 8 8 8 5 8 8 8 8 8 8 8 8 8 8 8 8 8 8 8 8 8 8 5 8 8\n",
      " 8 8 8]\n",
      "(40,)\n",
      "[5 2 2 2 2 0 2 4 2 3 2 1 1 3 5 1 1 9 1 9 9 1 2 0 9 9 5 2 5 9 2 2 8 2 2 5 2\n",
      " 1 2 0]\n",
      "(40,)\n"
     ]
    }
   ],
   "source": [
    "correct=[]\n",
    "for i, (key, value) in enumerate(test_data.items()):\n",
    "    print(knn.predict(value))\n",
    "    test_label = i\n",
    "    test_label_hat = knn.predict(value)\n",
    "    print(test_label_hat.shape)\n",
    "    test_label_hat = np.array(test_label_hat)\n",
    "    correct.append((test_label_hat == test_label).sum())"
   ]
  },
  {
   "cell_type": "code",
   "execution_count": 8,
   "metadata": {
    "pycharm": {
     "name": "#%%\n"
    }
   },
   "outputs": [
    {
     "name": "stdout",
     "output_type": "stream",
     "text": [
      "[11, 21, 12, 17, 40, 27, 16, 18, 36, 6]\n"
     ]
    }
   ],
   "source": [
    "print(correct)"
   ]
  },
  {
   "cell_type": "code",
   "execution_count": null,
   "metadata": {
    "pycharm": {
     "name": "#%%\n"
    }
   },
   "outputs": [],
   "source": [
    "\n"
   ]
  }
 ],
 "metadata": {
  "kernelspec": {
   "display_name": "Python 3.8.2 64-bit",
   "language": "python",
   "name": "python38264bitd17b77760e9b46d29ce06909f6c14ce7"
  },
  "language_info": {
   "codemirror_mode": {
    "name": "ipython",
    "version": 3
   },
   "file_extension": ".py",
   "mimetype": "text/x-python",
   "name": "python",
   "nbconvert_exporter": "python",
   "pygments_lexer": "ipython3",
   "version": "3.8.2"
  }
 },
 "nbformat": 4,
 "nbformat_minor": 1
}
