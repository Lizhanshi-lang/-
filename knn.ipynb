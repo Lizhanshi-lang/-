{
 "cells": [
  {
   "cell_type": "code",
   "execution_count": null,
   "metadata": {
    "pycharm": {
     "name": "#%%\n"
    }
   },
   "outputs": [],
   "source": [
    "\"\"\"\n",
    "本代码通过文章《基于 ＲeliefF 特征加权和 KNN 的自然图像分类方法》的内容进行复现\n",
    "===================================================================\n",
    "\n",
    "班级：信安171\n",
    "作者：葛启丰\n",
    "学号：41724180\n",
    "时间：2020-04-08\n",
    "\"\"\""
   ]
  },
  {
   "cell_type": "code",
   "execution_count": null,
   "metadata": {
    "pycharm": {
     "name": "#%%\n"
    }
   },
   "outputs": [],
   "source": [
    "print(\"aaa\")\n",
    "\n"
   ]
  },
  {
   "cell_type": "code",
   "execution_count": null,
   "metadata": {
    "pycharm": {
     "name": "#%%\n"
    }
   },
   "outputs": [],
   "source": [
    "import json\n",
    "import os\n",
    "import cv2\n",
    "import numpy as np"
   ]
  },
  {
   "cell_type": "code",
   "execution_count": null,
   "metadata": {
    "pycharm": {
     "name": "#%%\n"
    }
   },
   "outputs": [],
   "source": [
    "train_data_path = os.path.join(\".\", \"Corel-1000\", \"train\")\n",
    "test_data_path = os.path.join(\".\", \"Corel-1000\", \"test\")\n",
    "_, categories, _ = next(os.walk(train_data_path))\n"
   ]
  },
  {
   "cell_type": "code",
   "execution_count": null,
   "metadata": {
    "pycharm": {
     "name": "#%%\n"
    }
   },
   "outputs": [],
   "source": [
    "# 提取特征\n",
    "# 总计25个特征\n"
   ]
  },
  {
   "cell_type": "code",
   "execution_count": null,
   "metadata": {
    "pycharm": {
     "name": "#%%\n"
    }
   },
   "outputs": [],
   "source": [
    "def get_GLCM(img, direction):\n",
    "    \"\"\"\n",
    "    求灰度共生矩阵\n",
    "\n",
    "    :param img: img, BGR or GRAY\n",
    "    :param direction: 0, 45, 90, 135,\n",
    "    :return: 共生矩阵，大小为（256,256）\n",
    "    \"\"\"\n",
    "    GLCM = np.zeros((256, 256), np.uint16)\n",
    "    if len(img.shape) == 3:\n",
    "        img = cv2.cvtColor(img, cv2.COLOR_BGR2GRAY)\n",
    "        rows, columns = img.shape\n",
    "    else:\n",
    "        rows, columns = img.shape\n",
    "\n",
    "    if direction == 0:\n",
    "        for i in range(rows):\n",
    "            for j in range(columns):\n",
    "                if j + 1 < columns:\n",
    "                    GLCM[img[i][j]][img[i][j + 1]] += 1\n",
    "    elif direction == 45:\n",
    "        for i in range(rows):\n",
    "            for j in range(columns):\n",
    "                if j + 1 < columns and i - 1 >= 0:\n",
    "                    GLCM[img[i][j]][img[i - 1][j + 1]] += 1\n",
    "    elif direction == 90:\n",
    "        for i in range(rows):\n",
    "            for j in range(columns):\n",
    "                if i - 1 >= 0:\n",
    "                    GLCM[img[i][j]][img[i - 1][j]] += 1\n",
    "    elif direction == 135:\n",
    "        for i in range(rows):\n",
    "            for j in range(columns):\n",
    "                if i - 1 >= 0 and j - 1 >= 0:\n",
    "                    GLCM[img[i][j]][img[i - 1][j - 1]] += 1\n",
    "    else:\n",
    "        raise Exception(\"请检查输入的角度是否正确！！！\")\n",
    "    return GLCM\n"
   ]
  },
  {
   "cell_type": "code",
   "execution_count": null,
   "metadata": {
    "pycharm": {
     "name": "#%%\n"
    }
   },
   "outputs": [],
   "source": [
    "def get_energy_by_GLCM(GLCM):\n",
    "    \"\"\"\n",
    "    根据灰度共生矩阵（GLCM）获取【能量】\n",
    "\n",
    "    :param GLCM:\n",
    "    :return:\n",
    "    \"\"\"\n",
    "    return np.sum(GLCM ** 2)\n"
   ]
  },
  {
   "cell_type": "code",
   "execution_count": null,
   "metadata": {
    "pycharm": {
     "name": "#%%\n"
    }
   },
   "outputs": [],
   "source": [
    "def get_idm_by_GLCM(GLCM):\n",
    "    \"\"\"\n",
    "    根据灰度共生矩阵（GLCM）获取【相关性】\n",
    "\n",
    "    inverse_different_moment\n",
    "\n",
    "    :param GLCM:\n",
    "    :return:\n",
    "    \"\"\"\n",
    "    rows, columns = GLCM.shape\n",
    "    idm = 0\n",
    "    for i in range(rows):\n",
    "        for j in range(columns):\n",
    "            idm += GLCM[i][j] / (1 + (i - j) ** 2)\n",
    "    return idm\n"
   ]
  },
  {
   "cell_type": "code",
   "execution_count": null,
   "metadata": {
    "pycharm": {
     "name": "#%%\n"
    }
   },
   "outputs": [],
   "source": [
    "def get_sma_by_GLCM(GLCM):\n",
    "    \"\"\"\n",
    "    根据灰度共生矩阵获取【惯性矩】\n",
    "    Second moment of area: 二次统计量\n",
    "\n",
    "    :return:\n",
    "    \"\"\"\n",
    "    rows, columns = GLCM.shape\n",
    "    sma = 0\n",
    "    for i in range(rows):\n",
    "        for j in range(columns):\n",
    "            sma += ((i - j) ** 2) * GLCM[i][j]\n",
    "    return sma\n"
   ]
  },
  {
   "cell_type": "code",
   "execution_count": null,
   "metadata": {
    "pycharm": {
     "name": "#%%\n"
    }
   },
   "outputs": [],
   "source": [
    "def get_rel_by_GLCM(GLCM):\n",
    "    \"\"\"\n",
    "    根据灰度工程矩阵获取【相关性】\n",
    "\n",
    "    \"\"\"\n",
    "    rows, columns = GLCM.shape\n",
    "    rel = 0\n",
    "    rel_x = 0\n",
    "    rel_y = 0\n",
    "    delta_x = 0\n",
    "    delta_y = 0\n",
    "    for i in range(rows):\n",
    "        for j in range(columns):\n",
    "            rel_x += i * GLCM[i][j]\n",
    "            rel_y += j * GLCM[i][j]\n",
    "    for i in range(rows):\n",
    "        for j in range(columns):\n",
    "            delta_x += ((i - rel_x) ** 2) * GLCM[i][j]\n",
    "            delta_y += ((i - rel_y) ** 2) * GLCM[i][j]\n",
    "    rel = (-rel_x * rel_y) / (delta_x * delta_y)\n",
    "    return rel\n"
   ]
  },
  {
   "cell_type": "code",
   "execution_count": null,
   "metadata": {
    "pycharm": {
     "name": "#%%\n"
    }
   },
   "outputs": [],
   "source": [
    "def get_features(img):\n",
    "    \"\"\"\n",
    "    输入图像，然后获取其特征向量\n",
    "\n",
    "    BGR 各三个\n",
    "    - 颜色一阶矩平均值( Average)\n",
    "    - 颜色二阶矩方差( Va\u0002riance)\n",
    "    - 颜色三阶矩偏斜度( Skewness)\n",
    "\n",
    "    0，π/4，π/2，3π/4 方向上的 4 个特征参数\n",
    "    - 惯性矩\n",
    "    - 相关性\n",
    "    - 能量\n",
    "    - 均匀性\n",
    "\n",
    "    共计 3*3+4*4=25 个特征向量\n",
    "\n",
    "    :param img: 输入图像\n",
    "    :return: 返回特征向量，维数25\n",
    "    \"\"\"\n",
    "\n",
    "    fea = np.zeros((25))\n",
    "\n",
    "    img = np.array(img)\n",
    "\n",
    "    def get_0_8(raster):\n",
    "        f0 = raster.mean()\n",
    "        f1 = raster.std() ** 2\n",
    "        f2 = np.sum(((raster.reshape(-1) - raster.mean()) ** 3) / (raster.std() ** 3)) / (raster.size - 1)\n",
    "        return f0, f1, f2\n",
    "\n",
    "    B = img[:, :, 0]\n",
    "    G = img[:, :, 1]\n",
    "    R = img[:, :, 2]\n",
    "    fea[0], fea[1], fea[2] = get_0_8(B)\n",
    "    fea[3], fea[4], fea[5] = get_0_8(G)\n",
    "    fea[6], fea[7], fea[8] = get_0_8(R)\n",
    "\n",
    "    # f0 = B.mean()\n",
    "    # f1 = B.std() ** 2\n",
    "    # f2 = np.sum(((B.reshape(-1) - B.mean()) ** 3) / (B.std() ** 3)) / (B.size - 1)\n",
    "    #\n",
    "    # f3 = G.mean()\n",
    "    # f4 = G.std() ** 2\n",
    "    # f5 = np.sum(((G.reshape(-1) - G.mean()) ** 3) / (G.std() ** 3)) / (G.size - 1)\n",
    "    #\n",
    "    # f6 = R.mean()\n",
    "    # f7 = R.std() ** 2\n",
    "    # f8 = np.sum(((R.reshape(-1) - R.mean()) ** 3) / (R.std() ** 3)) / (R.size - 1)\n",
    "\n",
    "    # print(f1, f2, f3)\n",
    "    # img_gray = cv2.cvtColor(img, cv2.COLOR_BGR2GRAY)\n",
    "    # img_GLCM = get_GLCM(img_gray, 0)\n",
    "    # img_GLCM = (img_GLCM - img_GLCM.min()) / (img_GLCM.max() - img_GLCM.min())\n",
    "\n",
    "    def get_9_24(img_gray, direction):\n",
    "        img_GLCM = get_GLCM(img_gray, direction)\n",
    "        img_GLCM = (img_GLCM - img_GLCM.min()) / (img_GLCM.max() - img_GLCM.min())\n",
    "        f0 = get_sma_by_GLCM(img_GLCM)\n",
    "        f1 = get_rel_by_GLCM(img_GLCM)\n",
    "        f2 = get_energy_by_GLCM(img_GLCM)\n",
    "        f3 = get_idm_by_GLCM(img_GLCM)\n",
    "\n",
    "        return f0, f1, f2, f3\n",
    "\n",
    "    img_gray = cv2.cvtColor(img, cv2.COLOR_BGR2GRAY)\n",
    "    fea[9], fea[10], fea[11], fea[12] = get_9_24(img_gray, 0)\n",
    "    fea[13], fea[14], fea[15], fea[16] = get_9_24(img_gray, 45)\n",
    "    fea[17], fea[18], fea[19], fea[20] = get_9_24(img_gray, 90)\n",
    "    fea[21], fea[22], fea[23], fea[24] = get_9_24(img_gray, 135)\n",
    "    return fea\n",
    "\n",
    "\n",
    "# %%\n",
    "train_data_features = {}\n",
    "for category in categories:\n",
    "    tmp_path = os.path.join(train_data_path, category)\n",
    "    _, _, imgs = next(os.walk(tmp_path))\n",
    "    cur_img_fea = []\n",
    "    for img in imgs:\n",
    "        print(img)\n",
    "        targets = os.path.join(tmp_path, img)\n",
    "        img = cv2.imread(targets)\n",
    "        cur_img_fea.append(get_features(img).tolist())\n",
    "    train_data_features[category] = cur_img_fea\n",
    "\n",
    "# %%\n",
    "with open(\"./train_data_features.json\", 'w') as file:\n",
    "    json.dump(train_data_features, file)"
   ]
  },
  {
   "cell_type": "code",
   "execution_count": null,
   "outputs": [],
   "source": [
    "with open(\"./train_data_features.json\", 'r') as file:\n",
    "    train_data_features = json.load(file)\n"
   ],
   "metadata": {
    "collapsed": false,
    "pycharm": {
     "name": "#%%\n"
    }
   }
  },
  {
   "cell_type": "code",
   "execution_count": null,
   "outputs": [],
   "source": [
    "# 将数据进行归一化处理\n",
    "train_data_features_max = np.full((25), -9999999999999999999)\n",
    "train_data_features_min = np.full((25), 9999999999999999999)\n",
    "for category in categories:\n",
    "    tmp = train_data_features_max >= np.array(train_data_features[category]).max(axis=0)\n",
    "    train_data_features_max = tmp * train_data_features_max + (~tmp) * np.array(train_data_features[category]).max(\n",
    "        axis=0)\n",
    "    train_data_features_min = tmp * np.array(train_data_features[category]).min(axis=0) + (\n",
    "        ~tmp) * train_data_features_min\n",
    "for category in categories:\n",
    "    train_data_features_tmp = np.array(train_data_features[category])\n",
    "    train_data_features_tmp = (train_data_features_tmp - train_data_features_min) / (\n",
    "            train_data_features_max - train_data_features_min)\n",
    "    train_data_features[category] = train_data_features_tmp.tolist()\n"
   ],
   "metadata": {
    "collapsed": false,
    "pycharm": {
     "name": "#%%\n"
    }
   }
  },
  {
   "cell_type": "code",
   "execution_count": null,
   "outputs": [],
   "source": [
    "with open(\"./train_data_features_2.json\", 'w') as file:\n",
    "    json.dump(train_data_features, file)\n"
   ],
   "metadata": {
    "collapsed": false,
    "pycharm": {
     "name": "#%%\n"
    }
   }
  },
  {
   "cell_type": "code",
   "execution_count": null,
   "outputs": [],
   "source": [
    "test_data_features = {}\n",
    "for category in categories:\n",
    "    tmp_path = os.path.join(test_data_features, category)\n",
    "    _, _, imgs = next(os.walk(tmp_path))\n",
    "    cur_img_fea = []\n",
    "    for img in imgs:\n",
    "        print(img)\n",
    "        targets = os.path.join(tmp_path, img)\n",
    "        img = cv2.imread(targets)\n",
    "        cur_img_fea.append(get_features(img).tolist())\n",
    "    test_data_features[category] = cur_img_fea\n",
    "\n",
    "# %%\n",
    "with open(\"./test_data_features.json\", 'w') as file:\n",
    "    json.dump(test_data_features, file)"
   ],
   "metadata": {
    "collapsed": false,
    "pycharm": {
     "name": "#%%\n"
    }
   }
  },
  {
   "cell_type": "code",
   "execution_count": null,
   "outputs": [],
   "source": [
    "with open(\"./test_data_features.json\", 'r') as file:\n",
    "    test_data_features = json.load(file)\n"
   ],
   "metadata": {
    "collapsed": false,
    "pycharm": {
     "name": "#%%\n"
    }
   }
  },
  {
   "cell_type": "code",
   "execution_count": null,
   "outputs": [],
   "source": [
    "# 将数据进行归一化处理\n",
    "test_data_features_max = np.full((25), -np.inf)\n",
    "test_data_features_min = np.full((25), np.inf)\n",
    "for category in categories:\n",
    "    tmp = test_data_features_max >= np.array(test_data_features[category]).max(axis=0)\n",
    "    test_data_features_max = tmp * test_data_features_max + (~tmp) * np.array(test_data_features[category]).max(\n",
    "        axis=0)\n",
    "    test_data_features_min = tmp * np.array(test_data_features[category]).min(axis=0) + (\n",
    "        ~tmp) * test_data_features_min\n",
    "for category in categories:\n",
    "    test_data_features_tmp = np.array(test_data_features[category])\n",
    "    test_data_features_tmp = (test_data_features_tmp - test_data_features_min) / (\n",
    "            train_data_features_max - test_data_features_min)\n",
    "    test_data_features[category] = test_data_features_tmp.tolist()\n"
   ],
   "metadata": {
    "collapsed": false,
    "pycharm": {
     "name": "#%%\n"
    }
   }
  },
  {
   "cell_type": "code",
   "execution_count": null,
   "outputs": [],
   "source": [
    "with open(\"./test_data_features_2.json\", 'w') as file:\n",
    "    json.dump(train_data_features, file)"
   ],
   "metadata": {
    "collapsed": false,
    "pycharm": {
     "name": "#%%\n"
    }
   }
  },
  {
   "cell_type": "code",
   "execution_count": null,
   "metadata": {
    "pycharm": {
     "name": "#%%\n"
    }
   },
   "outputs": [],
   "source": [
    "def main():\n",
    "    pass\n",
    "\n",
    "\n",
    "if __name__ == \"__main__\":\n",
    "    main()\n"
   ]
  }
 ],
 "metadata": {
  "kernelspec": {
   "name": "python38264bitd17b77760e9b46d29ce06909f6c14ce7",
   "language": "python",
   "display_name": "Python 3.8.2 64-bit"
  },
  "language_info": {
   "codemirror_mode": {
    "name": "ipython",
    "version": 3
   },
   "file_extension": ".py",
   "mimetype": "text/x-python",
   "name": "python",
   "nbconvert_exporter": "python",
   "pygments_lexer": "ipython3",
   "version": "3.8.2"
  }
 },
 "nbformat": 4,
 "nbformat_minor": 1
}