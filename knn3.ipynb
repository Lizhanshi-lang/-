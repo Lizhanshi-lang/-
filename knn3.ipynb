{
 "cells": [
  {
   "cell_type": "code",
   "execution_count": 1,
   "metadata": {
    "pycharm": {
     "name": "#%%\n"
    }
   },
   "outputs": [
    {
     "data": {
      "text/plain": "'\\n【模式识别】大作业\\n===============\\n\\n本次大作业的编程分为两部分\\n- 特征提取\\n- KNN识别\\n\\n当前是【KNN识别】\\n\\n姓名：葛启丰\\n班级：信安171\\n学号：41724180\\n时间：202-04-09\\n'"
     },
     "execution_count": 1,
     "metadata": {},
     "output_type": "execute_result"
    }
   ],
   "source": [
    "\"\"\"\n",
    "【模式识别】大作业\n",
    "===============\n",
    "\n",
    "本次大作业的编程分为两部分\n",
    "- 特征提取\n",
    "- KNN识别\n",
    "\n",
    "当前是【KNN识别】\n",
    "\n",
    "姓名：葛启丰\n",
    "班级：信安171\n",
    "学号：41724180\n",
    "时间：202-04-09\n",
    "\"\"\""
   ]
  },
  {
   "cell_type": "code",
   "execution_count": 9,
   "metadata": {
    "pycharm": {
     "name": "#%%\n"
    }
   },
   "outputs": [],
   "source": [
    "import json\n",
    "\n",
    "import numpy as np\n",
    "from sklearn import neighbors"
   ]
  },
  {
   "cell_type": "code",
   "execution_count": 10,
   "metadata": {
    "pycharm": {
     "name": "#%%\n"
    }
   },
   "outputs": [],
   "source": [
    "# 读取标签、训练集以及测试集\n",
    "with open(\"categories.json\", 'r') as file:\n",
    "    categories = json.load(file)\n",
    "with open(\"train_data_features_2.json\", 'r') as file:\n",
    "    train_data = json.load(file)\n",
    "with open(\"test_data_features_2.json\", 'r') as file:\n",
    "    test_data = json.load(file)\n"
   ]
  },
  {
   "cell_type": "code",
   "execution_count": 11,
   "metadata": {
    "pycharm": {
     "name": "#%%\n"
    }
   },
   "outputs": [],
   "source": [
    "# 测试\n",
    "# 测试在不使用ReliefF算法的情况下，准确率会达到多少"
   ]
  },
  {
   "cell_type": "code",
   "execution_count": 12,
   "metadata": {
    "pycharm": {
     "name": "#%%\n"
    }
   },
   "outputs": [
    {
     "name": "stdout",
     "output_type": "stream",
     "text": [
      "(600, 25)\n",
      "(600,)\n"
     ]
    }
   ],
   "source": [
    "# 将训练集转化为Sklearn 能识别的数据集，并且声称相对应的标签\n",
    "train_data_tmp = None\n",
    "train_label = None\n",
    "for i, (key, value) in enumerate(train_data.items()):\n",
    "    value = np.array(value)\n",
    "    if train_data_tmp is None:\n",
    "        train_data_tmp = value.copy()\n",
    "    else:\n",
    "        train_data_tmp = np.vstack((train_data_tmp, value))\n",
    "\n",
    "    if train_label is None:\n",
    "        train_label = np.full((len(value)), i)\n",
    "    else:\n",
    "        train_label = np.hstack((train_label, np.full((len(value)), i)))\n",
    "\n",
    "train_data = train_data_tmp\n",
    "print(train_data.shape)\n",
    "print(train_label.shape)"
   ]
  },
  {
   "cell_type": "code",
   "execution_count": 13,
   "outputs": [],
   "source": [
    "# 剪辑近邻法去除不易区分的点\n",
    "train_tmp = np.hstack((train_data, train_label.reshape(-1, 1)))\n",
    "np.random.shuffle(train_tmp)"
   ],
   "metadata": {
    "collapsed": false,
    "pycharm": {
     "name": "#%%\n"
    }
   }
  },
  {
   "cell_type": "code",
   "execution_count": 18,
   "outputs": [
    {
     "name": "stdout",
     "output_type": "stream",
     "text": [
      "(181, 26)\n"
     ]
    }
   ],
   "source": [
    "while True:\n",
    "    train_test_size = int(len(train_tmp)/2)\n",
    "    train_test = train_tmp[0:train_test_size, :]\n",
    "    train_refer = train_tmp[train_test_size:, :]\n",
    "    knn = neighbors.KNeighborsClassifier()\n",
    "    knn.fit(train_refer[:, 0:25], train_refer[:, 25])\n",
    "\n",
    "    train_test_hat = knn.predict(train_test[:, 0:25])\n",
    "    train_test_corr = (train_test_hat == train_test[:, 25])\n",
    "\n",
    "    has_change = False\n",
    "    for i in range(train_test_size-1,-1,-1):\n",
    "        # print(i)\n",
    "        if not train_test_corr[i]:\n",
    "            train_test = np.delete(train_test, i, 0)\n",
    "            has_change = True\n",
    "    break\n",
    "\n",
    "    if not has_change:\n",
    "        break\n",
    "\n",
    "    train_tmp = train_test\n",
    "\n",
    "print(train_test.shape)\n"
   ],
   "metadata": {
    "collapsed": false,
    "pycharm": {
     "name": "#%%\n"
    }
   }
  },
  {
   "cell_type": "code",
   "execution_count": 22,
   "outputs": [],
   "source": [
    "# 重新生成训练数据和标签\n",
    "train_data, train_label = train_test[:, 0:25], train_test[:, 25]\n",
    "\n"
   ],
   "metadata": {
    "collapsed": false,
    "pycharm": {
     "name": "#%%\n"
    }
   }
  },
  {
   "cell_type": "code",
   "execution_count": 23,
   "metadata": {
    "pycharm": {
     "name": "#%%\n"
    }
   },
   "outputs": [
    {
     "data": {
      "text/plain": "KNeighborsClassifier(algorithm='auto', leaf_size=30, metric='minkowski',\n                     metric_params=None, n_jobs=None, n_neighbors=5, p=2,\n                     weights='uniform')"
     },
     "execution_count": 23,
     "metadata": {},
     "output_type": "execute_result"
    }
   ],
   "source": [
    "# 创建KNN分类器， K=5\n",
    "knn=neighbors.KNeighborsClassifier()\n",
    "knn.fit(train_data, train_label)"
   ]
  },
  {
   "cell_type": "code",
   "execution_count": 24,
   "metadata": {
    "pycharm": {
     "name": "#%%\n"
    }
   },
   "outputs": [
    {
     "name": "stdout",
     "output_type": "stream",
     "text": [
      "[0. 5. 0. 3. 0. 4. 7. 0. 2. 7. 8. 5. 7. 4. 0. 0. 0. 5. 0. 4. 0. 0. 0. 0.\n",
      " 7. 0. 5. 0. 2. 8. 0. 0. 0. 0. 0. 3. 3. 5. 8. 0.]\n",
      "(40,)\n",
      "[3. 4. 1. 1. 8. 1. 1. 1. 2. 2. 2. 1. 1. 1. 5. 2. 1. 1. 2. 1. 1. 1. 0. 1.\n",
      " 1. 1. 1. 1. 1. 0. 5. 1. 1. 5. 1. 1. 3. 1. 1. 1.]\n",
      "(40,)\n",
      "[0. 3. 3. 1. 2. 3. 5. 8. 0. 3. 2. 5. 3. 4. 4. 3. 4. 1. 2. 2. 2. 3. 8. 3.\n",
      " 5. 5. 5. 3. 5. 2. 3. 5. 9. 5. 5. 4. 5. 4. 5. 5.]\n",
      "(40,)\n",
      "[0. 4. 3. 2. 3. 5. 0. 3. 3. 0. 0. 3. 3. 3. 3. 3. 3. 7. 3. 3. 3. 3. 3. 2.\n",
      " 3. 3. 3. 3. 3. 3. 3. 3. 3. 7. 7. 3. 3. 7. 3. 7.]\n",
      "(40,)\n",
      "[4. 4. 4. 4. 4. 4. 4. 4. 4. 4. 4. 4. 4. 4. 4. 4. 4. 4. 4. 4. 4. 4. 4. 4.\n",
      " 4. 4. 4. 4. 4. 4. 4. 4. 4. 4. 4. 4. 4. 4. 4. 4.]\n",
      "(40,)\n",
      "[5. 5. 5. 5. 5. 4. 7. 7. 5. 5. 5. 5. 8. 5. 5. 0. 8. 5. 5. 5. 5. 5. 5. 1.\n",
      " 4. 4. 4. 5. 1. 4. 5. 2. 4. 4. 5. 4. 4. 5. 5. 4.]\n",
      "(40,)\n",
      "[4. 4. 4. 4. 4. 4. 6. 0. 6. 6. 6. 4. 6. 6. 6. 6. 8. 6. 4. 4. 8. 6. 8. 0.\n",
      " 4. 7. 0. 6. 4. 4. 6. 6. 0. 0. 1. 5. 6. 6. 0. 6.]\n",
      "(40,)\n",
      "[3. 4. 7. 4. 4. 7. 7. 7. 1. 4. 4. 0. 4. 4. 5. 7. 7. 5. 0. 6. 7. 7. 7. 4.\n",
      " 5. 5. 4. 1. 7. 5. 7. 5. 5. 3. 7. 4. 3. 4. 6. 5.]\n",
      "(40,)\n",
      "[8. 8. 8. 8. 8. 8. 8. 8. 8. 8. 8. 4. 8. 8. 8. 5. 8. 8. 8. 0. 8. 8. 8. 8.\n",
      " 0. 1. 8. 8. 5. 8. 8. 8. 8. 5. 8. 8. 8. 8. 0. 8.]\n",
      "(40,)\n",
      "[5. 3. 2. 2. 3. 2. 5. 4. 3. 3. 1. 2. 0. 3. 5. 2. 2. 5. 1. 5. 2. 1. 2. 0.\n",
      " 3. 3. 5. 3. 1. 1. 3. 2. 0. 3. 2. 5. 3. 1. 0. 2.]\n",
      "(40,)\n",
      "[20, 26, 6, 27, 40, 22, 16, 12, 32, 0]\n"
     ]
    }
   ],
   "source": [
    "# 获取正确率\n",
    "correct=[]\n",
    "for i, (key, value) in enumerate(test_data.items()):\n",
    "    print(knn.predict(value))\n",
    "    test_label = i\n",
    "    test_label_hat = knn.predict(value)\n",
    "    print(test_label_hat.shape)\n",
    "    test_label_hat = np.array(test_label_hat)\n",
    "    correct.append((test_label_hat == test_label).sum())\n",
    "print(correct)"
   ]
  },
  {
   "cell_type": "code",
   "execution_count": null,
   "metadata": {
    "pycharm": {
     "name": "#%%\n"
    }
   },
   "outputs": [],
   "source": [
    "\n"
   ]
  }
 ],
 "metadata": {
  "kernelspec": {
   "display_name": "Python 3.8.2 64-bit",
   "language": "python",
   "name": "python38264bitd17b77760e9b46d29ce06909f6c14ce7"
  },
  "language_info": {
   "codemirror_mode": {
    "name": "ipython",
    "version": 3
   },
   "file_extension": ".py",
   "mimetype": "text/x-python",
   "name": "python",
   "nbconvert_exporter": "python",
   "pygments_lexer": "ipython3",
   "version": "3.8.2"
  }
 },
 "nbformat": 4,
 "nbformat_minor": 1
}