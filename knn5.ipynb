{
 "cells": [
  {
   "cell_type": "code",
   "execution_count": 112,
   "metadata": {
    "collapsed": true
   },
   "outputs": [
    {
     "data": {
      "text/plain": "'\\n这部分进行基于特征和距离加权的 KNN 图像分类\\n基于特征和距离加权的 KNN 图像分类\\n基于特征和距离加权的 KNN 图像分类\\n基于特征和距离加权的 KNN 图像分类\\n'"
     },
     "execution_count": 112,
     "metadata": {},
     "output_type": "execute_result"
    }
   ],
   "source": [
    "\"\"\"\n",
    "这部分进行基于特征和距离加权的 KNN 图像分类\n",
    "基于特征和距离加权的 KNN 图像分类\n",
    "基于特征和距离加权的 KNN 图像分类\n",
    "基于特征和距离加权的 KNN 图像分类\n",
    "\"\"\"\n"
   ]
  },
  {
   "cell_type": "code",
   "execution_count": 113,
   "outputs": [],
   "source": [
    "import json\n",
    "import random\n",
    "import numpy as np\n",
    "from sklearn import neighbors\n",
    "import math\n",
    "import functools"
   ],
   "metadata": {
    "collapsed": false,
    "pycharm": {
     "name": "#%%\n"
    }
   }
  },
  {
   "cell_type": "code",
   "execution_count": 114,
   "outputs": [],
   "source": [
    "# 读取标签、训练集以及测试集\n",
    "with open(\"categories.json\", 'r') as file:\n",
    "    categories = json.load(file)\n",
    "with open(\"train_data_features_2.json\", 'r') as file:\n",
    "    train_data = json.load(file)\n",
    "with open(\"test_data_features_2.json\", 'r') as file:\n",
    "    test_data = json.load(file)\n",
    "with open(\"weight.json\", 'r') as file:\n",
    "    w = json.load(file)\n"
   ],
   "metadata": {
    "collapsed": false,
    "pycharm": {
     "name": "#%%\n"
    }
   }
  },
  {
   "cell_type": "code",
   "execution_count": 115,
   "outputs": [
    {
     "name": "stdout",
     "output_type": "stream",
     "text": [
      "(600, 25)\n",
      "(600,)\n"
     ]
    }
   ],
   "source": [
    "# 将训练集转化为Sklearn 能识别的数据集，并且声称相对应的标签\n",
    "train_data_tmp = None\n",
    "train_label = None\n",
    "for i, (key, value) in enumerate(train_data.items()):\n",
    "    value = np.array(value)\n",
    "    if train_data_tmp is None:\n",
    "        train_data_tmp = value.copy()\n",
    "    else:\n",
    "        train_data_tmp = np.vstack((train_data_tmp, value))\n",
    "\n",
    "    if train_label is None:\n",
    "        train_label = np.full((len(value)), i)\n",
    "    else:\n",
    "        train_label = np.hstack((train_label, np.full((len(value)), i)))\n",
    "\n",
    "train_data = train_data_tmp\n",
    "print(train_data.shape)\n",
    "print(train_label.shape)"
   ],
   "metadata": {
    "collapsed": false,
    "pycharm": {
     "name": "#%%\n"
    }
   }
  },
  {
   "cell_type": "code",
   "execution_count": 116,
   "outputs": [
    {
     "name": "stdout",
     "output_type": "stream",
     "text": [
      "(400, 25)\n",
      "(400,)\n"
     ]
    }
   ],
   "source": [
    "# 将测试集转化为Sklearn 能识别的数据集，并且声称相对应的标签\n",
    "test_data_tmp = None\n",
    "test_label = None\n",
    "for i, (key, value) in enumerate(test_data.items()):\n",
    "    value = np.array(value)\n",
    "    if test_data_tmp is None:\n",
    "        test_data_tmp = value.copy()\n",
    "    else:\n",
    "        test_data_tmp = np.vstack((test_data_tmp, value))\n",
    "\n",
    "    if test_label is None:\n",
    "        test_label = np.full((len(value)), i)\n",
    "    else:\n",
    "        test_label = np.hstack((test_label, np.full((len(value)), i)))\n",
    "\n",
    "test_data = test_data_tmp\n",
    "print(test_data.shape)\n",
    "print(test_label.shape)\n",
    "\n"
   ],
   "metadata": {
    "collapsed": false,
    "pycharm": {
     "name": "#%%\n"
    }
   }
  },
  {
   "cell_type": "code",
   "execution_count": 117,
   "outputs": [
    {
     "name": "stdout",
     "output_type": "stream",
     "text": [
      "[0.14320571973402108, 0.03943856750306627, 0.0700068905822123, 0.13795658051385412, 0.009654674599042339, 0.07761911407654361, 0.09247878117590842, 0.016739195058409283, 0.07571507966622402, 0.004373092086562442, 0.00810831583895992, 0.0007350152614717617, 0.003955031638075116, 0.0036592003437096146, 0.006959701844592663, 0.0007617323294135018, 0.0031667920543819138, 0.0013108873774797408, 0.007942030751033426, -0.0008060524299072777, -0.0002467780229183721, 0.002345705221850188, 0.00698404543665235, -0.0010918229338191668, 0.00011364722657472202]\n"
     ]
    }
   ],
   "source": [
    "print(w)\n",
    "\n"
   ],
   "metadata": {
    "collapsed": false,
    "pycharm": {
     "name": "#%%\n"
    }
   }
  },
  {
   "cell_type": "code",
   "execution_count": 118,
   "outputs": [],
   "source": [
    "def dist(X, R):\n",
    "    sum=0\n",
    "    for i in range(25):\n",
    "        # print(X[i] - R[i])\n",
    "        # print(w[i])\n",
    "        sum += ((X[i] - R[i])**2 )*(w[i]**2)\n",
    "    sum = math.sqrt(sum)\n",
    "    return sum"
   ],
   "metadata": {
    "collapsed": false,
    "pycharm": {
     "name": "#%%\n"
    }
   }
  },
  {
   "cell_type": "code",
   "execution_count": 119,
   "outputs": [],
   "source": [
    "choose_index = random.randint(0, 400)\n",
    "choose_data = test_data[choose_index]\n",
    "choose_label = test_label[choose_index]\n",
    "\n",
    "def cmps(p1, p2):\n",
    "    if p1[0] < p2[0]:\n",
    "        return -1\n",
    "    else:\n",
    "        return 1\n",
    "\n",
    "k_samples = []\n",
    "for i in range(600):\n",
    "    k_samples.append([dist(choose_data, train_data[i]), i])\n",
    "k_samples = sorted(k_samples, key=functools.cmp_to_key(cmps))\n",
    "k_samples = k_samples[:10]\n"
   ],
   "metadata": {
    "collapsed": false,
    "pycharm": {
     "name": "#%%\n"
    }
   }
  },
  {
   "cell_type": "code",
   "execution_count": 120,
   "outputs": [
    {
     "name": "stdout",
     "output_type": "stream",
     "text": [
      "[[0.03328780304786805, 347], [0.03687910837061008, 68], [0.03694851513993909, 97], [0.03773549866799476, 118], [0.038604296983142855, 105], [0.03930133663451436, 336], [0.039798955879000446, 313], [0.042862981263187994, 535], [0.04317379034280003, 110], [0.043780150568739504, 141]]\n"
     ]
    }
   ],
   "source": [
    "print(k_samples)\n"
   ],
   "metadata": {
    "collapsed": false,
    "pycharm": {
     "name": "#%%\n"
    }
   }
  },
  {
   "cell_type": "code",
   "execution_count": 121,
   "outputs": [
    {
     "name": "stdout",
     "output_type": "stream",
     "text": [
      "1\n",
      "5\n"
     ]
    }
   ],
   "source": [
    "g = np.zeros(10)\n",
    "for data, index in k_samples:\n",
    "   g[train_label[index]] += 1/data\n",
    "\n",
    "print(g.argmax(axis=0))\n",
    "print(choose_label)"
   ],
   "metadata": {
    "collapsed": false,
    "pycharm": {
     "name": "#%%\n"
    }
   }
  },
  {
   "cell_type": "code",
   "execution_count": 122,
   "outputs": [],
   "source": [
    "def predict(choose_index):\n",
    "    # choose_index = random.randint(0, 400)\n",
    "    choose_data = test_data[choose_index]\n",
    "    choose_label = test_label[choose_index]\n",
    "\n",
    "    def cmps(p1, p2):\n",
    "        if p1[0] < p2[0]:\n",
    "            return -1\n",
    "        else:\n",
    "            return 1\n",
    "\n",
    "    k_samples = []\n",
    "    for i in range(600):\n",
    "        k_samples.append([dist(choose_data, train_data[i]), i])\n",
    "    k_samples = sorted(k_samples, key=functools.cmp_to_key(cmps))\n",
    "    k_samples = k_samples[:10]\n",
    "\n",
    "    g = np.zeros(10)\n",
    "    for data, index in k_samples:\n",
    "       g[train_label[index]] += 1/data\n",
    "\n",
    "    return g.argmax()\n"
   ],
   "metadata": {
    "collapsed": false,
    "pycharm": {
     "name": "#%%\n"
    }
   }
  },
  {
   "cell_type": "code",
   "execution_count": 123,
   "outputs": [
    {
     "name": "stdout",
     "output_type": "stream",
     "text": [
      "0.52\n"
     ]
    }
   ],
   "source": [
    "cor =0\n",
    "for i in range(400):\n",
    "    if predict(i) == i //40:\n",
    "        cor += 1\n",
    "\n",
    "print(cor/400)\n"
   ],
   "metadata": {
    "collapsed": false,
    "pycharm": {
     "name": "#%%\n"
    }
   }
  },
  {
   "cell_type": "code",
   "execution_count": null,
   "outputs": [],
   "source": [
    "\n"
   ],
   "metadata": {
    "collapsed": false,
    "pycharm": {
     "name": "#%%\n"
    }
   }
  }
 ],
 "metadata": {
  "kernelspec": {
   "name": "python38264bitd17b77760e9b46d29ce06909f6c14ce7",
   "language": "python",
   "display_name": "Python 3.8.2 64-bit"
  },
  "language_info": {
   "codemirror_mode": {
    "name": "ipython",
    "version": 2
   },
   "file_extension": ".py",
   "mimetype": "text/x-python",
   "name": "python",
   "nbconvert_exporter": "python",
   "pygments_lexer": "ipython2",
   "version": "2.7.6"
  }
 },
 "nbformat": 4,
 "nbformat_minor": 0
}