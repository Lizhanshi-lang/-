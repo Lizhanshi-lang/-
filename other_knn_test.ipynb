{
 "cells": [
  {
   "cell_type": "code",
   "execution_count": 2,
   "outputs": [
    {
     "data": {
      "text/plain": "'\\nKNN 相关的测试\\n'"
     },
     "execution_count": 2,
     "metadata": {},
     "output_type": "execute_result"
    }
   ],
   "source": [
    "\"\"\"\n",
    "KNN 相关的测试\n",
    "\"\"\""
   ],
   "metadata": {
    "collapsed": false,
    "pycharm": {
     "name": "#%%\n"
    }
   }
  },
  {
   "cell_type": "code",
   "execution_count": null,
   "metadata": {
    "collapsed": true,
    "pycharm": {
     "is_executing": true
    }
   },
   "outputs": [],
   "source": [
    "import matplotlib.pyplot as plt\n",
    "import numpy as np\n",
    "from sklearn import neighbors"
   ]
  },
  {
   "cell_type": "code",
   "execution_count": null,
   "outputs": [],
   "source": [
    "w1 = np.random.randint(0, 30, (50, 2))\n",
    "l1 = np.full((50), 0)\n",
    "print(w1)\n"
   ],
   "metadata": {
    "collapsed": false,
    "pycharm": {
     "name": "#%%\n",
     "is_executing": true
    }
   }
  },
  {
   "cell_type": "code",
   "execution_count": 5,
   "outputs": [
    {
     "name": "stdout",
     "output_type": "stream",
     "text": [
      "[[15 30]\n",
      " [46 25]\n",
      " [17 28]\n",
      " [45 33]\n",
      " [30 42]\n",
      " [37 32]\n",
      " [20 27]\n",
      " [22 29]\n",
      " [37 26]\n",
      " [32 32]\n",
      " [28 38]\n",
      " [42 46]\n",
      " [28 29]\n",
      " [46 30]\n",
      " [28 33]\n",
      " [20 49]\n",
      " [25 26]\n",
      " [42 42]\n",
      " [40 19]\n",
      " [27 28]\n",
      " [24 43]\n",
      " [16 17]\n",
      " [31 38]\n",
      " [36 33]\n",
      " [30 42]\n",
      " [45 30]\n",
      " [18 26]\n",
      " [43 38]\n",
      " [15 49]\n",
      " [26 33]\n",
      " [33 31]\n",
      " [19 38]\n",
      " [23 34]\n",
      " [25 44]\n",
      " [43 49]\n",
      " [25 32]\n",
      " [27 28]\n",
      " [16 39]\n",
      " [28 21]\n",
      " [27 17]\n",
      " [49 37]\n",
      " [41 22]\n",
      " [48 20]\n",
      " [32 42]\n",
      " [45 28]\n",
      " [27 24]\n",
      " [33 28]\n",
      " [41 32]\n",
      " [20 40]\n",
      " [23 25]]\n"
     ]
    }
   ],
   "source": [
    "w2 = np.random.randint(15, 50, (50, 2))\n",
    "l2 = np.full((50), 1)\n",
    "print(w2)\n"
   ],
   "metadata": {
    "collapsed": false,
    "pycharm": {
     "name": "#%%\n"
    }
   }
  },
  {
   "cell_type": "code",
   "execution_count": 6,
   "outputs": [
    {
     "data": {
      "text/plain": "<Figure size 432x288 with 1 Axes>",
      "image/png": "[encoded data removed]"
     },
     "metadata": {
      "needs_background": "light"
     },
     "output_type": "display_data"
    }
   ],
   "source": [
    "plt.figure()\n",
    "plt.scatter(w1[:,0], w1[:,1])\n",
    "plt.scatter(w2[:, 0], w2[:,1])\n",
    "plt.legend([\"w1\", \"w2\"])\n",
    "plt.show()"
   ],
   "metadata": {
    "collapsed": false,
    "pycharm": {
     "name": "#%%\n"
    }
   }
  },
  {
   "cell_type": "code",
   "execution_count": 7,
   "outputs": [],
   "source": [
    "w = np.vstack((w1, w2))\n",
    "l = np.hstack((l1, l2))"
   ],
   "metadata": {
    "collapsed": false,
    "pycharm": {
     "name": "#%%\n"
    }
   }
  },
  {
   "cell_type": "code",
   "execution_count": 8,
   "outputs": [
    {
     "data": {
      "text/plain": "'\\n普通的KNN\\n'"
     },
     "execution_count": 8,
     "metadata": {},
     "output_type": "execute_result"
    }
   ],
   "source": [
    "\"\"\"\n",
    "普通的KNN\n",
    "\"\"\"\n"
   ],
   "metadata": {
    "collapsed": false,
    "pycharm": {
     "name": "#%%\n"
    }
   }
  },
  {
   "cell_type": "code",
   "execution_count": 9,
   "outputs": [
    {
     "data": {
      "text/plain": "KNeighborsClassifier(algorithm='auto', leaf_size=30, metric='minkowski',\n                     metric_params=None, n_jobs=None, n_neighbors=5, p=2,\n                     weights='uniform')"
     },
     "execution_count": 9,
     "metadata": {},
     "output_type": "execute_result"
    }
   ],
   "source": [
    "knn = neighbors.KNeighborsClassifier()\n",
    "knn.fit(w, l)"
   ],
   "metadata": {
    "collapsed": false,
    "pycharm": {
     "name": "#%%\n"
    }
   }
  },
  {
   "cell_type": "code",
   "execution_count": 10,
   "outputs": [
    {
     "name": "stdout",
     "output_type": "stream",
     "text": [
      "[[24 43]]\n",
      "[1]\n"
     ]
    }
   ],
   "source": [
    "test = np.random.randint(0, 50, (1,2))\n",
    "print(test)\n",
    "print(knn.predict(test))"
   ],
   "metadata": {
    "collapsed": false,
    "pycharm": {
     "name": "#%%\n"
    }
   }
  },
  {
   "cell_type": "code",
   "execution_count": 11,
   "outputs": [
    {
     "data": {
      "text/plain": "'\\n剪辑近邻法\\n'"
     },
     "execution_count": 11,
     "metadata": {},
     "output_type": "execute_result"
    }
   ],
   "source": [
    "\"\"\"\n",
    "剪辑近邻法\n",
    "\"\"\""
   ],
   "metadata": {
    "collapsed": false,
    "pycharm": {
     "name": "#%%\n"
    }
   }
  },
  {
   "cell_type": "code",
   "execution_count": 12,
   "outputs": [],
   "source": [
    "l = l.reshape(100, 1)\n",
    "w_tmp = np.hstack((w, l))\n"
   ],
   "metadata": {
    "collapsed": false,
    "pycharm": {
     "name": "#%%\n"
    }
   }
  },
  {
   "cell_type": "code",
   "execution_count": 13,
   "outputs": [],
   "source": [
    "np.random.shuffle(w_tmp)\n"
   ],
   "metadata": {
    "collapsed": false,
    "pycharm": {
     "name": "#%%\n"
    }
   }
  },
  {
   "cell_type": "code",
   "execution_count": 14,
   "outputs": [
    {
     "name": "stdout",
     "output_type": "stream",
     "text": [
      "[ True  True  True  True  True  True  True  True  True  True  True  True\n",
      "  True  True  True  True  True  True  True  True  True  True  True  True\n",
      " False  True  True  True  True False  True  True  True  True  True  True\n",
      "  True  True  True False  True  True  True  True  True  True  True  True\n",
      "  True  True]\n",
      "49\n",
      "48\n",
      "47\n",
      "46\n",
      "45\n",
      "44\n",
      "43\n",
      "42\n",
      "41\n",
      "40\n",
      "39\n",
      "38\n",
      "37\n",
      "36\n",
      "35\n",
      "34\n",
      "33\n",
      "32\n",
      "31\n",
      "30\n",
      "29\n",
      "28\n",
      "27\n",
      "26\n",
      "25\n",
      "24\n",
      "23\n",
      "22\n",
      "21\n",
      "20\n",
      "19\n",
      "18\n",
      "17\n",
      "16\n",
      "15\n",
      "14\n",
      "13\n",
      "12\n",
      "11\n",
      "10\n",
      "9\n",
      "8\n",
      "7\n",
      "6\n",
      "5\n",
      "4\n",
      "3\n",
      "2\n",
      "1\n",
      "0\n",
      "(47, 3)\n"
     ]
    }
   ],
   "source": [
    "w_test_size = int(len(w_tmp)/2)\n",
    "w_test = w_tmp[0:w_test_size, :]\n",
    "w_refer = w_tmp[w_test_size:, :]\n",
    "\n",
    "knn = neighbors.KNeighborsClassifier(1)\n",
    "knn.fit(w_refer[:, 0:2], w_refer[:, 2:].reshape(-1))\n",
    "\n",
    "w_test_hat = knn.predict(w_test[:, 0:2])\n",
    "w_test_corr = np.array(w_test_hat) == w_test[:,2:].reshape(-1)\n",
    "print( np.array(w_test_hat) == w_test[:,2:].reshape(-1))\n",
    "# print(np.delete(w_test, w_test_hat == w_test[:,2:0], 0).shape)\n",
    "for i in range(w_test_size-1,-1,-1):\n",
    "    print(i)\n",
    "    if w_test_corr[i] == False:\n",
    "        w_test = np.delete(w_test, i, 0)\n",
    "\n",
    "print(w_test.shape)\n"
   ],
   "metadata": {
    "collapsed": false,
    "pycharm": {
     "name": "#%%\n"
    }
   }
  },
  {
   "cell_type": "code",
   "execution_count": 15,
   "outputs": [],
   "source": [
    "w_tmp= w_test[w_test[:, 2] == 0]\n",
    "w1 = w_tmp[:,0:2]\n",
    "\n",
    "w_tmp= w_test[w_test[:, 2] == 1]\n",
    "w2 = w_tmp[:,0:2]"
   ],
   "metadata": {
    "collapsed": false,
    "pycharm": {
     "name": "#%%\n"
    }
   }
  },
  {
   "cell_type": "code",
   "execution_count": 16,
   "outputs": [
    {
     "data": {
      "text/plain": "<Figure size 432x288 with 1 Axes>",
      "image/png": "[encoded data removed]"
     },
     "metadata": {
      "needs_background": "light"
     },
     "output_type": "display_data"
    }
   ],
   "source": [
    "plt.figure()\n",
    "plt.scatter(w1[:, 0], w1[:, 1])\n",
    "plt.scatter(w2[:, 0], w2[:, 1])\n",
    "plt.show()\n",
    "\n"
   ],
   "metadata": {
    "collapsed": false,
    "pycharm": {
     "name": "#%%\n"
    }
   }
  },
  {
   "cell_type": "code",
   "execution_count": 17,
   "outputs": [
    {
     "data": {
      "text/plain": "'\\n多次迭代剪辑近邻法\\n'"
     },
     "execution_count": 17,
     "metadata": {},
     "output_type": "execute_result"
    }
   ],
   "source": [
    "\"\"\"\n",
    "多次迭代剪辑近邻法\n",
    "\"\"\""
   ],
   "metadata": {
    "collapsed": false,
    "pycharm": {
     "name": "#%%\n"
    }
   }
  },
  {
   "cell_type": "code",
   "execution_count": 18,
   "outputs": [
    {
     "name": "stdout",
     "output_type": "stream",
     "text": [
      "[ True  True  True  True  True False  True  True  True  True  True  True\n",
      "  True  True  True  True  True  True  True  True  True False  True  True\n",
      "  True  True  True  True  True False  True False  True  True  True  True\n",
      "  True  True  True  True  True  True  True  True  True  True  True  True\n",
      "  True  True]\n",
      "49\n",
      "48\n",
      "47\n",
      "46\n",
      "45\n",
      "44\n",
      "43\n",
      "42\n",
      "41\n",
      "40\n",
      "39\n",
      "38\n",
      "37\n",
      "36\n",
      "35\n",
      "34\n",
      "33\n",
      "32\n",
      "31\n",
      "30\n",
      "29\n",
      "28\n",
      "27\n",
      "26\n",
      "25\n",
      "24\n",
      "23\n",
      "22\n",
      "21\n",
      "20\n",
      "19\n",
      "18\n",
      "17\n",
      "16\n",
      "15\n",
      "14\n",
      "13\n",
      "12\n",
      "11\n",
      "10\n",
      "9\n",
      "8\n",
      "7\n",
      "6\n",
      "5\n",
      "4\n",
      "3\n",
      "2\n",
      "1\n",
      "0\n",
      "(46, 3)\n",
      "[False  True  True  True  True  True  True  True  True  True False  True\n",
      "  True  True  True  True  True  True  True False  True  True  True]\n",
      "22\n",
      "21\n",
      "20\n",
      "19\n",
      "18\n",
      "17\n",
      "16\n",
      "15\n",
      "14\n",
      "13\n",
      "12\n",
      "11\n",
      "10\n",
      "9\n",
      "8\n",
      "7\n",
      "6\n",
      "5\n",
      "4\n",
      "3\n",
      "2\n",
      "1\n",
      "0\n",
      "(20, 3)\n",
      "[ True  True  True  True  True  True  True False  True  True]\n",
      "9\n",
      "8\n",
      "7\n",
      "6\n",
      "5\n",
      "4\n",
      "3\n",
      "2\n",
      "1\n",
      "0\n",
      "(9, 3)\n",
      "[ True  True  True  True]\n",
      "3\n",
      "2\n",
      "1\n",
      "0\n",
      "(4, 3)\n",
      "[[45 30  1]\n",
      " [18 13  0]\n",
      " [36 33  1]\n",
      " [24  0  0]]\n"
     ]
    }
   ],
   "source": [
    "l = l.reshape(100, 1)\n",
    "w_tmp = np.hstack((w, l))\n",
    "while True:\n",
    "\n",
    "    np.random.shuffle(w_tmp)\n",
    "\n",
    "    w_test_size = int(len(w_tmp)/2)\n",
    "    w_test = w_tmp[0:w_test_size, :]\n",
    "    w_refer = w_tmp[w_test_size:, :]\n",
    "\n",
    "    knn = neighbors.KNeighborsClassifier(1)\n",
    "    knn.fit(w_refer[:, 0:2], w_refer[:, 2:].reshape(-1))\n",
    "\n",
    "    w_test_hat = knn.predict(w_test[:, 0:2])\n",
    "    w_test_corr = np.array(w_test_hat) == w_test[:,2:].reshape(-1)\n",
    "    print( np.array(w_test_hat) == w_test[:,2:].reshape(-1))\n",
    "    # print(np.delete(w_test, w_test_hat == w_test[:,2:0], 0).shape)\n",
    "    has_change = False\n",
    "    for i in range(w_test_size-1,-1,-1):\n",
    "        print(i)\n",
    "        if w_test_corr[i] == False:\n",
    "            w_test = np.delete(w_test, i, 0)\n",
    "            has_change = True\n",
    "\n",
    "    print(w_test.shape)\n",
    "\n",
    "    if has_change == False:\n",
    "        break\n",
    "    w_tmp = w_test\n",
    "\n",
    "print(w_test)"
   ],
   "metadata": {
    "collapsed": false,
    "pycharm": {
     "name": "#%%\n"
    }
   }
  },
  {
   "cell_type": "code",
   "execution_count": 19,
   "outputs": [],
   "source": [
    "w_tmp= w_test[w_test[:, 2] == 0]\n",
    "w1 = w_tmp[:,0:2]\n",
    "\n",
    "w_tmp= w_test[w_test[:, 2] == 1]\n",
    "w2 = w_tmp[:,0:2]"
   ],
   "metadata": {
    "collapsed": false,
    "pycharm": {
     "name": "#%%\n"
    }
   }
  },
  {
   "cell_type": "code",
   "execution_count": 20,
   "outputs": [
    {
     "data": {
      "text/plain": "<Figure size 432x288 with 1 Axes>",
      "image/png": "[encoded data removed]"
     },
     "metadata": {
      "needs_background": "light"
     },
     "output_type": "display_data"
    }
   ],
   "source": [
    "plt.figure()\n",
    "plt.scatter(w1[:, 0], w1[:, 1])\n",
    "plt.scatter(w2[:, 0], w2[:, 1])\n",
    "plt.show()\n",
    "\n"
   ],
   "metadata": {
    "collapsed": false,
    "pycharm": {
     "name": "#%%\n"
    }
   }
  },
  {
   "cell_type": "code",
   "execution_count": 21,
   "outputs": [
    {
     "data": {
      "text/plain": "'\\n压缩近邻法\\n'"
     },
     "execution_count": 21,
     "metadata": {},
     "output_type": "execute_result"
    }
   ],
   "source": [
    "\"\"\"\n",
    "压缩近邻法\n",
    "\"\"\""
   ],
   "metadata": {
    "collapsed": false,
    "pycharm": {
     "name": "#%%\n"
    }
   }
  },
  {
   "cell_type": "code",
   "execution_count": null,
   "outputs": [],
   "source": [],
   "metadata": {
    "collapsed": false,
    "pycharm": {
     "name": "#%%\n"
    }
   }
  }
 ],
 "metadata": {
  "kernelspec": {
   "display_name": "Python 3.8.2 64-bit",
   "language": "python",
   "name": "python38264bitd17b77760e9b46d29ce06909f6c14ce7"
  },
  "language_info": {
   "codemirror_mode": {
    "name": "ipython",
    "version": 2
   },
   "file_extension": ".py",
   "mimetype": "text/x-python",
   "name": "python",
   "nbconvert_exporter": "python",
   "pygments_lexer": "ipython2",
   "version": "2.7.6"
  }
 },
 "nbformat": 4,
 "nbformat_minor": 0
}