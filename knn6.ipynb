{
 "cells": [
  {
   "cell_type": "code",
   "execution_count": 1,
   "metadata": {
    "collapsed": true
   },
   "outputs": [
    {
     "data": {
      "text/plain": "'\\n'"
     },
     "execution_count": 1,
     "metadata": {},
     "output_type": "execute_result"
    }
   ],
   "source": [
    "\"\"\"\n",
    "\"\"\""
   ]
  },
  {
   "cell_type": "code",
   "execution_count": 51,
   "outputs": [],
   "source": [
    "import json\n",
    "import random\n",
    "import numpy as np\n",
    "from sklearn import neighbors\n",
    "import math\n",
    "import functools"
   ],
   "metadata": {
    "collapsed": false,
    "pycharm": {
     "name": "#%%\n"
    }
   }
  },
  {
   "cell_type": "code",
   "execution_count": 52,
   "outputs": [],
   "source": [
    "# 读取标签、训练集以及测试集\n",
    "with open(\"categories.json\", 'r') as file:\n",
    "    categories = json.load(file)\n",
    "with open(\"train_data_features_2.json\", 'r') as file:\n",
    "    train_data = json.load(file)\n",
    "with open(\"test_data_features_2.json\", 'r') as file:\n",
    "    test_data = json.load(file)\n",
    "with open(\"weight.json\", 'r') as file:\n",
    "    w = json.load(file)"
   ],
   "metadata": {
    "collapsed": false,
    "pycharm": {
     "name": "#%%\n"
    }
   }
  },
  {
   "cell_type": "code",
   "execution_count": 53,
   "outputs": [
    {
     "name": "stdout",
     "output_type": "stream",
     "text": [
      "(600, 21)\n",
      "(600,)\n"
     ]
    }
   ],
   "source": [
    "# 将训练集转化为Sklearn 能识别的数据集，并且声称相对应的标签\n",
    "train_data_tmp = None\n",
    "train_label = None\n",
    "for i, (key, value) in enumerate(train_data.items()):\n",
    "    value = np.array(value)\n",
    "    if train_data_tmp is None:\n",
    "        train_data_tmp = value.copy()\n",
    "    else:\n",
    "        train_data_tmp = np.vstack((train_data_tmp, value))\n",
    "\n",
    "    if train_label is None:\n",
    "        train_label = np.full((len(value)), i)\n",
    "    else:\n",
    "        train_label = np.hstack((train_label, np.full((len(value)), i)))\n",
    "\n",
    "train_data = train_data_tmp\n",
    "\n",
    "# 减去判定为影响误差的向量 10/14/18/22\n",
    "train_data = np.delete(train_data, 22, 1)\n",
    "train_data = np.delete(train_data, 18, 1)\n",
    "train_data = np.delete(train_data, 14, 1)\n",
    "train_data = np.delete(train_data, 10, 1)\n",
    "\n",
    "print(train_data.shape)\n",
    "print(train_label.shape)\n",
    "# print(train_data)"
   ],
   "metadata": {
    "collapsed": false,
    "pycharm": {
     "name": "#%%\n"
    }
   }
  },
  {
   "cell_type": "code",
   "execution_count": 54,
   "outputs": [
    {
     "name": "stdout",
     "output_type": "stream",
     "text": [
      "(400, 21)\n",
      "(400,)\n",
      "[[ 0.04871063  0.32012228  0.4445425  ...  0.05255349  0.01872143\n",
      "   0.13029645]\n",
      " [ 0.09616957  0.22175108  0.32533339 ...  0.40603646  0.23073328\n",
      "   0.39633191]\n",
      " [ 0.04261603  0.38468111  0.48362982 ...  0.00190095 -0.00109035\n",
      "   0.0006649 ]\n",
      " ...\n",
      " [ 0.46644582  0.          0.         ...  0.0074192   0.01516534\n",
      "   0.12082561]\n",
      " [ 0.18078634  0.4174556   0.36608708 ...  0.06183568  0.04101134\n",
      "   0.21589503]\n",
      " [ 0.55814159  0.49388387  0.1538018  ...  0.06409022  0.12517175\n",
      "   0.42217396]]\n"
     ]
    }
   ],
   "source": [
    "# 将测试集转化为Sklearn 能识别的数据集，并且声称相对应的标签\n",
    "test_data_tmp = None\n",
    "test_label = None\n",
    "for i, (key, value) in enumerate(test_data.items()):\n",
    "    value = np.array(value)\n",
    "    if test_data_tmp is None:\n",
    "        test_data_tmp = value.copy()\n",
    "    else:\n",
    "        test_data_tmp = np.vstack((test_data_tmp, value))\n",
    "\n",
    "    if test_label is None:\n",
    "        test_label = np.full((len(value)), i)\n",
    "    else:\n",
    "        test_label = np.hstack((test_label, np.full((len(value)), i)))\n",
    "\n",
    "test_data = test_data_tmp\n",
    "\n",
    "# 减去判定为影响误差的向量 10/14/18/22\n",
    "test_data = np.delete(test_data, 22, 1)\n",
    "test_data = np.delete(test_data, 18, 1)\n",
    "test_data = np.delete(test_data, 14, 1)\n",
    "test_data = np.delete(test_data, 10, 1)\n",
    "\n",
    "print(test_data.shape)\n",
    "print(test_label.shape)\n",
    "print(test_data)"
   ],
   "metadata": {
    "collapsed": false,
    "pycharm": {
     "name": "#%%\n"
    }
   }
  },
  {
   "cell_type": "code",
   "execution_count": 54,
   "outputs": [],
   "source": [],
   "metadata": {
    "collapsed": false,
    "pycharm": {
     "name": "#%%\n"
    }
   }
  },
  {
   "cell_type": "code",
   "execution_count": 55,
   "outputs": [],
   "source": [
    "# 剪辑近邻法去除不易区分的点\n",
    "train_tmp = np.hstack((train_data, train_label.reshape(-1, 1)))\n",
    "np.random.shuffle(train_tmp)"
   ],
   "metadata": {
    "collapsed": false,
    "pycharm": {
     "name": "#%%\n"
    }
   }
  },
  {
   "cell_type": "code",
   "execution_count": 56,
   "outputs": [
    {
     "name": "stdout",
     "output_type": "stream",
     "text": [
      "(163, 22)\n"
     ]
    }
   ],
   "source": [
    "while True:\n",
    "    train_test_size = int(len(train_tmp)/2)\n",
    "    train_test = train_tmp[0:train_test_size, :]\n",
    "    train_refer = train_tmp[train_test_size:, :]\n",
    "    knn = neighbors.KNeighborsClassifier()\n",
    "    knn.fit(train_refer[:, 0:21], train_refer[:, 21])\n",
    "\n",
    "    train_test_hat = knn.predict(train_test[:, 0:21])\n",
    "    train_test_corr = (train_test_hat == train_test[:, 21])\n",
    "\n",
    "    has_change = False\n",
    "    for i in range(train_test_size-1,-1,-1):\n",
    "        # print(i)\n",
    "        if not train_test_corr[i]:\n",
    "            train_test = np.delete(train_test, i, 0)\n",
    "            has_change = True\n",
    "    break\n",
    "\n",
    "    if not has_change:\n",
    "        break\n",
    "\n",
    "    train_tmp = train_test\n",
    "\n",
    "print(train_test.shape)\n"
   ],
   "metadata": {
    "collapsed": false,
    "pycharm": {
     "name": "#%%\n"
    }
   }
  },
  {
   "cell_type": "code",
   "execution_count": 57,
   "outputs": [],
   "source": [
    "# 重新生成训练数据和标签\n",
    "train_data, train_label = train_test[:, 0:21], train_test[:, 21]\n"
   ],
   "metadata": {
    "collapsed": false,
    "pycharm": {
     "name": "#%%\n"
    }
   }
  },
  {
   "cell_type": "code",
   "execution_count": 58,
   "outputs": [
    {
     "data": {
      "text/plain": "KNeighborsClassifier(algorithm='auto', leaf_size=30, metric='minkowski',\n                     metric_params=None, n_jobs=None, n_neighbors=5, p=2,\n                     weights='uniform')"
     },
     "execution_count": 58,
     "metadata": {},
     "output_type": "execute_result"
    }
   ],
   "source": [
    "# 创建KNN分类器， K=5\n",
    "knn=neighbors.KNeighborsClassifier()\n",
    "knn.fit(train_data, train_label)"
   ],
   "metadata": {
    "collapsed": false,
    "pycharm": {
     "name": "#%%\n"
    }
   }
  },
  {
   "cell_type": "code",
   "execution_count": 64,
   "outputs": [
    {
     "name": "stdout",
     "output_type": "stream",
     "text": [
      "(400,)\n",
      "217\n"
     ]
    }
   ],
   "source": [
    "# 获取正确率\n",
    "print(test_label.shape)\n",
    "test_label_hat = knn.predict(test_data)\n",
    "print((test_label_hat == test_label).sum())\n",
    "\n"
   ],
   "metadata": {
    "collapsed": false,
    "pycharm": {
     "name": "#%%\n"
    }
   }
  },
  {
   "cell_type": "code",
   "execution_count": 65,
   "outputs": [
    {
     "name": "stdout",
     "output_type": "stream",
     "text": [
      "0.0\n"
     ]
    }
   ],
   "source": [
    "cor_sum=0\n",
    "for x in correct:\n",
    "    cor_sum += x\n",
    "print(cor_sum / 400)\n"
   ],
   "metadata": {
    "collapsed": false,
    "pycharm": {
     "name": "#%%\n"
    }
   }
  },
  {
   "cell_type": "code",
   "execution_count": null,
   "outputs": [],
   "source": [],
   "metadata": {
    "collapsed": false,
    "pycharm": {
     "name": "#%%\n"
    }
   }
  }
 ],
 "metadata": {
  "kernelspec": {
   "name": "python38264bitd17b77760e9b46d29ce06909f6c14ce7",
   "language": "python",
   "display_name": "Python 3.8.2 64-bit"
  },
  "language_info": {
   "codemirror_mode": {
    "name": "ipython",
    "version": 2
   },
   "file_extension": ".py",
   "mimetype": "text/x-python",
   "name": "python",
   "nbconvert_exporter": "python",
   "pygments_lexer": "ipython2",
   "version": "2.7.6"
  }
 },
 "nbformat": 4,
 "nbformat_minor": 0
}